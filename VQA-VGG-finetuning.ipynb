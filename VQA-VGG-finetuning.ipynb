{
 "cells": [
  {
   "cell_type": "code",
   "execution_count": 1,
   "metadata": {},
   "outputs": [],
   "source": [
    "import numpy as np\n",
    "import pandas as pd\n",
    "from keras.applications.vgg16 import VGG16, preprocess_input"
   ]
  },
  {
   "cell_type": "code",
   "execution_count": 2,
   "metadata": {},
   "outputs": [],
   "source": [
    "vgg16 = VGG16(weights='imagenet', include_top=False, input_shape=(224, 224, 3))"
   ]
  },
  {
   "cell_type": "code",
   "execution_count": 3,
   "metadata": {},
   "outputs": [],
   "source": [
    "for i in range(len(vgg16.layers)):\n",
    "    if i>16:\n",
    "        vgg16.layers[i].trainable = True\n",
    "    else:\n",
    "        vgg16.layers[i].trainable = False"
   ]
  },
  {
   "cell_type": "code",
   "execution_count": 4,
   "metadata": {},
   "outputs": [],
   "source": [
    "from keras.models import Sequential\n",
    "from keras.layers import Dense, Flatten\n",
    "\n",
    "model = Sequential()\n",
    "model.add(vgg16)\n",
    "model.add(Flatten())\n",
    "model.add(Dense(1024, activation='relu'))\n",
    "model.add(Dense(512, activation='relu'))"
   ]
  },
  {
   "cell_type": "code",
   "execution_count": 5,
   "metadata": {},
   "outputs": [
    {
     "name": "stdout",
     "output_type": "stream",
     "text": [
      "Model: \"sequential\"\n",
      "_________________________________________________________________\n",
      " Layer (type)                Output Shape              Param #   \n",
      "=================================================================\n",
      " vgg16 (Functional)          (None, 7, 7, 512)         14714688  \n",
      "                                                                 \n",
      " flatten (Flatten)           (None, 25088)             0         \n",
      "                                                                 \n",
      " dense (Dense)               (None, 1024)              25691136  \n",
      "                                                                 \n",
      " dense_1 (Dense)             (None, 512)               524800    \n",
      "                                                                 \n",
      "=================================================================\n",
      "Total params: 40,930,624\n",
      "Trainable params: 28,575,744\n",
      "Non-trainable params: 12,354,880\n",
      "_________________________________________________________________\n"
     ]
    }
   ],
   "source": [
    "model.summary()"
   ]
  },
  {
   "cell_type": "code",
   "execution_count": 6,
   "metadata": {},
   "outputs": [],
   "source": [
    "from keras.optimizers import Adam\n",
    "\n",
    "model.compile(optimizer=\"adam\", loss=\"categorical_crossentropy\", metrics=[\"accuracy\"])"
   ]
  },
  {
   "cell_type": "code",
   "execution_count": 7,
   "metadata": {},
   "outputs": [
    {
     "name": "stdout",
     "output_type": "stream",
     "text": [
      "Found 82783 images belonging to 1 classes.\n",
      "Found 40504 images belonging to 1 classes.\n"
     ]
    }
   ],
   "source": [
    "from keras.preprocessing.image import ImageDataGenerator\n",
    "\n",
    "train_datagen = ImageDataGenerator(rescale=1./255)\n",
    "train_generator = train_datagen.flow_from_directory(\n",
    "        'train2014',\n",
    "        target_size=(224, 224),\n",
    "        batch_size=32,\n",
    "        class_mode='categorical')\n",
    "\n",
    "\n",
    "# Evaluate the model\n",
    "val_datagen = ImageDataGenerator(rescale=1./255)\n",
    "val_generator = val_datagen.flow_from_directory(\n",
    "        'val2014',\n",
    "        target_size=(224, 224),\n",
    "        batch_size=32,\n",
    "        class_mode='categorical')\n",
    "\n"
   ]
  },
  {
   "cell_type": "code",
   "execution_count": 8,
   "metadata": {},
   "outputs": [
    {
     "name": "stdout",
     "output_type": "stream",
     "text": [
      "Epoch 1/10\n",
      "50/50 [==============================] - 906s 18s/step - loss: 3849.6396 - accuracy: 0.0000e+00 - val_loss: 3677.6860 - val_accuracy: 0.0000e+00\n",
      "Epoch 2/10\n",
      "50/50 [==============================] - 849s 17s/step - loss: 3647.3516 - accuracy: 0.0000e+00 - val_loss: 3632.1421 - val_accuracy: 0.0000e+00\n",
      "Epoch 3/10\n",
      "50/50 [==============================] - 852s 17s/step - loss: 3595.9253 - accuracy: 0.0000e+00 - val_loss: 3561.3547 - val_accuracy: 0.0000e+00\n",
      "Epoch 4/10\n",
      "50/50 [==============================] - 849s 17s/step - loss: 3538.0107 - accuracy: 0.0000e+00 - val_loss: 3524.3718 - val_accuracy: 0.0000e+00\n",
      "Epoch 5/10\n",
      "50/50 [==============================] - 852s 17s/step - loss: 3516.0393 - accuracy: 0.0000e+00 - val_loss: 3515.0708 - val_accuracy: 0.0000e+00\n",
      "Epoch 6/10\n",
      "50/50 [==============================] - 853s 17s/step - loss: 3515.0400 - accuracy: 0.0000e+00 - val_loss: 3515.0161 - val_accuracy: 0.0000e+00\n",
      "Epoch 7/10\n",
      "50/50 [==============================] - 853s 17s/step - loss: 3515.0054 - accuracy: 0.0000e+00 - val_loss: 3514.9968 - val_accuracy: 0.0000e+00\n",
      "Epoch 8/10\n",
      "50/50 [==============================] - 849s 17s/step - loss: 3514.9956 - accuracy: 0.0000e+00 - val_loss: 3514.9927 - val_accuracy: 0.0000e+00\n",
      "Epoch 9/10\n",
      "50/50 [==============================] - 852s 17s/step - loss: 3514.9944 - accuracy: 0.0000e+00 - val_loss: 3514.9927 - val_accuracy: 0.0000e+00\n",
      "Epoch 10/10\n",
      "50/50 [==============================] - 867s 17s/step - loss: 3514.9937 - accuracy: 0.0000e+00 - val_loss: 3514.9927 - val_accuracy: 0.0000e+00\n"
     ]
    },
    {
     "data": {
      "text/plain": [
       "<keras.callbacks.History at 0x1c78b8b0dc0>"
      ]
     },
     "execution_count": 8,
     "metadata": {},
     "output_type": "execute_result"
    }
   ],
   "source": [
    "# Fine-tune the model\n",
    "model.fit(\n",
    "        train_generator,\n",
    "        steps_per_epoch=50,\n",
    "        epochs=10,\n",
    "        validation_data=val_generator,\n",
    "        validation_steps=20)"
   ]
  },
  {
   "cell_type": "code",
   "execution_count": 9,
   "metadata": {},
   "outputs": [],
   "source": [
    "model.save('vgg-16-fine-tuned-last-2.h5')"
   ]
  }
 ],
 "metadata": {
  "kernelspec": {
   "display_name": "NeuronskeMreze",
   "language": "python",
   "name": "python3"
  },
  "language_info": {
   "codemirror_mode": {
    "name": "ipython",
    "version": 3
   },
   "file_extension": ".py",
   "mimetype": "text/x-python",
   "name": "python",
   "nbconvert_exporter": "python",
   "pygments_lexer": "ipython3",
   "version": "3.10.10"
  },
  "orig_nbformat": 4
 },
 "nbformat": 4,
 "nbformat_minor": 2
}
